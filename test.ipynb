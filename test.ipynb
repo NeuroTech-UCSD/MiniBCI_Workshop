{
 "cells": [
  {
   "cell_type": "code",
   "execution_count": 23,
   "metadata": {},
   "outputs": [],
   "source": [
    "import yaml\n",
    "import math"
   ]
  },
  {
   "cell_type": "code",
   "execution_count": 41,
   "metadata": {},
   "outputs": [
    {
     "name": "stdout",
     "output_type": "stream",
     "text": [
      "1830.9357713003678\n",
      "3641392.2920242148\n"
     ]
    }
   ],
   "source": [
    "with open(\"config.yml\") as stream:\n",
    "    try:\n",
    "        yaml_values = yaml.safe_load(stream)\n",
    "        relax_mean = yaml_values['relax_mean']\n",
    "        flex_mean = yaml_values['flex_mean']\n",
    "        temp_threshold = yaml_values['temp_threshold']\n",
    "    except yaml.YAMLError as exc:\n",
    "        print(exc)\n",
    "\n",
    "print(relax_mean)\n",
    "print(flex_mean)"
   ]
  },
  {
   "cell_type": "code",
   "execution_count": 44,
   "metadata": {},
   "outputs": [
    {
     "data": {
      "text/plain": [
       "18512.902102537417"
      ]
     },
     "execution_count": 44,
     "metadata": {},
     "output_type": "execute_result"
    }
   ],
   "source": [
    "(math.sqrt(relax_mean) + 0.05 * (math.sqrt(flex_mean) - math.sqrt(relax_mean)))**2"
   ]
  },
  {
   "cell_type": "code",
   "execution_count": 37,
   "metadata": {},
   "outputs": [],
   "source": [
    "with open(\"config.yml\", 'w') as file:\n",
    "    try:\n",
    "        yaml.dump({'relax_mean': 0, 'flex_mean': 1, 'temp_threshold': 2}, file)\n",
    "    except yaml.YAMLError as exc:\n",
    "        print(exc)"
   ]
  },
  {
   "cell_type": "code",
   "execution_count": 1,
   "metadata": {},
   "outputs": [
    {
     "ename": "NameError",
     "evalue": "name 'yaml' is not defined",
     "output_type": "error",
     "traceback": [
      "\u001b[1;31m---------------------------------------------------------------------------\u001b[0m",
      "\u001b[1;31mNameError\u001b[0m                                 Traceback (most recent call last)",
      "Cell \u001b[1;32mIn[1], line 1\u001b[0m\n\u001b[1;32m----> 1\u001b[0m yaml_values \u001b[38;5;241m=\u001b[39m \u001b[43myaml\u001b[49m\u001b[38;5;241m.\u001b[39msafe_load(file)\n\u001b[0;32m      2\u001b[0m threshold\u001b[38;5;241m.\u001b[39mrelax_mean \u001b[38;5;241m=\u001b[39m yaml_values[\u001b[38;5;124m'\u001b[39m\u001b[38;5;124mrelax_mean\u001b[39m\u001b[38;5;124m'\u001b[39m]\n\u001b[0;32m      3\u001b[0m threshold\u001b[38;5;241m.\u001b[39mflex_mean \u001b[38;5;241m=\u001b[39m yaml_values[\u001b[38;5;124m'\u001b[39m\u001b[38;5;124mflex_mean\u001b[39m\u001b[38;5;124m'\u001b[39m]\n",
      "\u001b[1;31mNameError\u001b[0m: name 'yaml' is not defined"
     ]
    }
   ],
   "source": [
    "yaml_values = yaml.safe_load(file)\n",
    "threshold.relax_mean = yaml_values['relax_mean']\n",
    "threshold.flex_mean = yaml_values['flex_mean']\n",
    "threshold.temp_threshold = yaml_values['temp_threshold']"
   ]
  }
 ],
 "metadata": {
  "kernelspec": {
   "display_name": "tntworkshopenv",
   "language": "python",
   "name": "python3"
  },
  "language_info": {
   "codemirror_mode": {
    "name": "ipython",
    "version": 3
   },
   "file_extension": ".py",
   "mimetype": "text/x-python",
   "name": "python",
   "nbconvert_exporter": "python",
   "pygments_lexer": "ipython3",
   "version": "3.13.0"
  }
 },
 "nbformat": 4,
 "nbformat_minor": 2
}
